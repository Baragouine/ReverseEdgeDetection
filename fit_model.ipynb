{
 "cells": [
  {
   "cell_type": "markdown",
   "metadata": {
    "id": "BmAs0SAzvgYo"
   },
   "source": [
    "Load data and create dataset"
   ]
  },
  {
   "cell_type": "code",
   "execution_count": 1,
   "metadata": {
    "id": "XgLM9O3Dwd9p"
   },
   "outputs": [],
   "source": [
    "import cv2 as cv\n",
    "import numpy as np\n",
    "import time"
   ]
  },
  {
   "cell_type": "code",
   "execution_count": 2,
   "metadata": {
    "id": "APrtzE7Dut_m"
   },
   "outputs": [],
   "source": [
    "# load image names\n",
    "list_imgs = open('list.txt', 'r')\n",
    "names = list_imgs.read().splitlines()"
   ]
  },
  {
   "cell_type": "code",
   "execution_count": 3,
   "metadata": {
    "id": "U19aNEEW335T"
   },
   "outputs": [],
   "source": [
    "X = [(cv.imread('dataset2/input-' + name, cv.IMREAD_GRAYSCALE) / 255).flatten() for name in names]\n",
    "Y = [(cv.imread('dataset2/output-' + name, cv.IMREAD_GRAYSCALE) / 255).flatten() for name in names]"
   ]
  },
  {
   "cell_type": "code",
   "execution_count": 4,
   "metadata": {
    "id": "yBc5HD4B3FMi"
   },
   "outputs": [],
   "source": [
    "X = np.array(X)\n",
    "Y = np.array(Y)"
   ]
  },
  {
   "cell_type": "code",
   "execution_count": 5,
   "metadata": {
    "colab": {
     "base_uri": "https://localhost:8080/"
    },
    "id": "qj7b69WN6XQL",
    "outputId": "4dc3a195-b856-4c80-85cf-1b837bc597f4"
   },
   "outputs": [
    {
     "data": {
      "text/plain": [
       "(202599, 5346)"
      ]
     },
     "execution_count": 5,
     "metadata": {},
     "output_type": "execute_result"
    }
   ],
   "source": [
    "Y.shape"
   ]
  },
  {
   "cell_type": "markdown",
   "metadata": {
    "id": "YBrJ9zFM6Rcb"
   },
   "source": [
    "Split the dataset"
   ]
  },
  {
   "cell_type": "code",
   "execution_count": 6,
   "metadata": {
    "id": "oVH4isXfMh1x"
   },
   "outputs": [],
   "source": [
    "from sklearn.model_selection import train_test_split"
   ]
  },
  {
   "cell_type": "code",
   "execution_count": 7,
   "metadata": {
    "id": "hFcn5TcQMiYq"
   },
   "outputs": [],
   "source": [
    "X_train = X[0:Y.shape[0]:2]\n",
    "Y_train = Y[0:Y.shape[0]:2]\n",
    "X_test = X[1:Y.shape[0]:2]\n",
    "Y_test = Y[1:Y.shape[0]:2]"
   ]
  },
  {
   "cell_type": "markdown",
   "metadata": {
    "id": "y4AEi8uENZt4"
   },
   "source": [
    "Fit the model"
   ]
  },
  {
   "cell_type": "code",
   "execution_count": 8,
   "metadata": {
    "id": "PCyGtZMvMpA5"
   },
   "outputs": [],
   "source": [
    "from sklearn.neural_network import MLPRegressor"
   ]
  },
  {
   "cell_type": "code",
   "execution_count": 9,
   "metadata": {
    "id": "UrkwcZNANhZd"
   },
   "outputs": [],
   "source": [
    "# 5 layers Multi-layer Perceptron\n",
    "mlp = MLPRegressor(hidden_layer_sizes=(500, 1000, 1000, 1000, 500), max_iter=200, random_state=1)"
   ]
  },
  {
   "cell_type": "code",
   "execution_count": null,
   "metadata": {
    "colab": {
     "base_uri": "https://localhost:8080/"
    },
    "id": "seK98IS8ftoZ",
    "outputId": "e272fad2-7acc-4d0e-e895-965f43a4d792"
   },
   "outputs": [],
   "source": [
    "start = time.time()\n",
    "\n",
    "mlp.fit(X_train, Y_train)\n",
    "\n",
    "end = time.time()\n",
    "\n",
    "print(end - start)"
   ]
  },
  {
   "cell_type": "markdown",
   "metadata": {
    "id": "OgcJhkO5pb8k"
   },
   "source": [
    "Save the Multi-layer Perceptron into mlp.joblib"
   ]
  },
  {
   "cell_type": "code",
   "execution_count": null,
   "metadata": {
    "id": "aC9QuAJprxTt"
   },
   "outputs": [],
   "source": [
    "from joblib import dump, load"
   ]
  },
  {
   "cell_type": "code",
   "execution_count": null,
   "metadata": {
    "colab": {
     "base_uri": "https://localhost:8080/"
    },
    "id": "ov9S9koAr_TT",
    "outputId": "8ce90090-57f2-4906-e8fd-ce12bbe1d9a8"
   },
   "outputs": [],
   "source": [
    "dump(mlp, 'mlp.joblib')"
   ]
  }
 ],
 "metadata": {
  "colab": {
   "collapsed_sections": [],
   "provenance": []
  },
  "kernelspec": {
   "display_name": "Python 3 (ipykernel)",
   "language": "python",
   "name": "python3"
  },
  "language_info": {
   "codemirror_mode": {
    "name": "ipython",
    "version": 3
   },
   "file_extension": ".py",
   "mimetype": "text/x-python",
   "name": "python",
   "nbconvert_exporter": "python",
   "pygments_lexer": "ipython3",
   "version": "3.9.2"
  }
 },
 "nbformat": 4,
 "nbformat_minor": 1
}
